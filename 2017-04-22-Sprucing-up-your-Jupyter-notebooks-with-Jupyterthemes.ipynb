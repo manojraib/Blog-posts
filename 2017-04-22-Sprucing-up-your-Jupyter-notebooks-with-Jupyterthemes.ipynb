{
 "cells": [
  {
   "cell_type": "markdown",
   "metadata": {},
   "source": [
    "---\n",
    "title: Sprucing up your Jupyter notebooks with Jupyterthemes\n",
    "date: 2017-04-22\n",
    "comments: false\n",
    "tags: python, programming tips, jupyter\n",
    "keywords: python, data science, jupyter notebook, customisation\n",
    "---\n",
    "\n",
    "Did you know your Jupyter notebooks don't have to have that default \"science grey\" appearance? Using a package called `jupyterthemes` (documentation [here](https://github.com/dunovank/jupyter-themes) on Github), you can add a fairly high degree of customisation and be rocking the sexiest notebook around!\n",
    "\n",
    "## Getting started\n",
    "\n",
    "First, as always, we install the required package, and then launch a fresh notebook."
   ]
  },
  {
   "cell_type": "code",
   "execution_count": null,
   "metadata": {
    "collapsed": true
   },
   "outputs": [],
   "source": [
    "!pip install jupytertheme\n",
    "!jupyter notebook"
   ]
  },
  {
   "cell_type": "markdown",
   "metadata": {
    "collapsed": true
   },
   "source": [
    "<img src=\"/figure/jupyterthemes_1.png\" title=\"Default style\" style=\"display: block; margin: auto;\" />\n",
    "\n",
    "## Changing the theme\n",
    "\n",
    "We've obviously started with a regular, run-of-the-mill notebook. The first thing we can change is the overall theme. We can list our options using `jt -l`, and also get a preview of a few of them over in the documentation."
   ]
  },
  {
   "cell_type": "code",
   "execution_count": 1,
   "metadata": {},
   "outputs": [
    {
     "name": "stdout",
     "output_type": "stream",
     "text": [
      "Available Themes: \r\n",
      "   chesterish\r\n",
      "   grade3\r\n",
      "   monokai\r\n",
      "   oceans16\r\n",
      "   onedork\r\n",
      "   solarized-light\r\n",
      "   solarizedl\r\n",
      "   solarized-light\r\n"
     ]
    }
   ],
   "source": [
    "!jt -l"
   ]
  },
  {
   "cell_type": "markdown",
   "metadata": {},
   "source": [
    "I'm going to use grade3, which we can select using the -t argument."
   ]
  },
  {
   "cell_type": "code",
   "execution_count": 16,
   "metadata": {
    "collapsed": true
   },
   "outputs": [],
   "source": [
    "!jt -t grade3"
   ]
  },
  {
   "cell_type": "markdown",
   "metadata": {},
   "source": [
    "<img src=\"/figure/jupyterthemes_2.png\" title=\"Grade 3 style\" style=\"display: block; margin: auto;\" />\n",
    "\n",
    "It looks great, but you can see we've lost our toolbar and notebook name, which I like having. Let's turn them back on."
   ]
  },
  {
   "cell_type": "code",
   "execution_count": 17,
   "metadata": {
    "collapsed": true
   },
   "outputs": [],
   "source": [
    "!jt -t grade3 -N -T"
   ]
  },
  {
   "cell_type": "markdown",
   "metadata": {},
   "source": [
    "<img src=\"/figure/jupyterthemes_3.png\" title=\"Turning on the name and toolbar\" style=\"display: block; margin: auto;\" />\n",
    "\n",
    "## Changing the fonts\n",
    "\n",
    "Now let's change the default code font using the `-f` argument. There is a comprehensive list of possible monospace fonts in the documentation that are recognised by Jupyterthemes. I'm going to go with 'office'. I'm also going to change the code font size from 11 to 12 using the `-fs` argument. "
   ]
  },
  {
   "cell_type": "code",
   "execution_count": 18,
   "metadata": {},
   "outputs": [],
   "source": [
    "!jt -t grade3 -N -T -f office -fs 12"
   ]
  },
  {
   "cell_type": "markdown",
   "metadata": {},
   "source": [
    "<img src=\"/figure/jupyterthemes_4.png\" title=\"Code font\" style=\"display: block; margin: auto;\" />\n",
    "\n",
    "Now let's also change the markdown font using the `-tf` argument, and its size using the `-tfs` argument (from a default of 13). I'm going to change it to 'hindsans' in size 13.5, but again, you can find a list of possible serif and sans serif fonts in the documentation. Note that you don't use a decimal place when changing a font size to a decimal number."
   ]
  },
  {
   "cell_type": "code",
   "execution_count": 19,
   "metadata": {},
   "outputs": [],
   "source": [
    "!jt -t grade3 -N -T -f office -fs 12 -tf hindsans -tfs 135"
   ]
  },
  {
   "cell_type": "markdown",
   "metadata": {},
   "source": [
    "<img src=\"/figure/jupyterthemes_4.png\" title=\"Markdown font\" style=\"display: block; margin: auto;\" />\n",
    "\n",
    "Finally on fonts, let's also change the notebook font and size. We'll change it to 'catamaransans' in size 12.5 using the `-nf` and `-nfs` arguments respectively."
   ]
  },
  {
   "cell_type": "code",
   "execution_count": 20,
   "metadata": {
    "collapsed": true
   },
   "outputs": [],
   "source": [
    "!jt -t grade3 -N -T -f office -fs 12 -tf hindsans -tfs 135 -nf catamaransans -nfs 125"
   ]
  },
  {
   "cell_type": "markdown",
   "metadata": {},
   "source": [
    "<img src=\"/figure/jupyterthemes_6.png\" title=\"Notebook font\" style=\"display: block; margin: auto;\" />\n",
    "\n",
    "## Changing other parts of the notebook\n",
    "\n",
    "You can also change other specific parts of the notebook, such as the size of the cells, the code line spacing and the cursor size and colour. Here I will increase the width of the cells to 1050, from a default of 980, using the `-cellw` argument."
   ]
  },
  {
   "cell_type": "code",
   "execution_count": 21,
   "metadata": {
    "collapsed": true
   },
   "outputs": [],
   "source": [
    "!jt -t grade3 -N -T -f office -fs 12 -tf hindsans -tfs 135 -nf catamaransans -nfs 125 -cellw 1200"
   ]
  },
  {
   "cell_type": "markdown",
   "metadata": {},
   "source": [
    "<img src=\"/figure/jupyterthemes_7.png\" title=\"Cell width\" style=\"display: block; margin: auto;\" />\n",
    "\n",
    "You can also change the size and width of the cursor. Here I'll change the colour to blue using the `-cursc` argument. There are 5 possible colour options: blue, orange, red, purple, green, and the font color. I'll also increase the cursor width from the default of 2 using the `-cursw` argument."
   ]
  },
  {
   "cell_type": "code",
   "execution_count": 22,
   "metadata": {},
   "outputs": [],
   "source": [
    "!jt -t grade3 -N -T -f office -fs 12 -tf hindsans -tfs 135 -nf catamaransans -nfs 125 -cellw 1200 -cursc b -cursw 7"
   ]
  },
  {
   "cell_type": "markdown",
   "metadata": {},
   "source": [
    "<img src=\"/figure/jupyterthemes_8.png\" title=\"Cursor customisation\" style=\"display: block; margin: auto;\" />\n",
    "\n",
    "And there you have it! Now your Jupyter notebook can look as nice as your RStudio, Sublime Text or Atom set ups! I haven't covered all possible customisations in this blog post, including a suite of configurations for `matplotlib`, so I encourage you to explore the documentation to fully tailor your notebooks to your taste."
   ]
  }
 ],
 "metadata": {
  "kernelspec": {
   "display_name": "Python 2",
   "language": "python",
   "name": "python2"
  },
  "language_info": {
   "codemirror_mode": {
    "name": "ipython",
    "version": 2
   },
   "file_extension": ".py",
   "mimetype": "text/x-python",
   "name": "python",
   "nbconvert_exporter": "python",
   "pygments_lexer": "ipython2",
   "version": "2.7.12"
  }
 },
 "nbformat": 4,
 "nbformat_minor": 2
}
