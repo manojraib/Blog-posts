{
 "cells": [
  {
   "cell_type": "markdown",
   "metadata": {},
   "source": [
    "---\n",
    "title: Sprucing up your Jupyter notebooks with Jupyterthemes\n",
    "date: 2017-04-22\n",
    "comments: false\n",
    "tags: python, programming tips, jupyter\n",
    "keywords: python, data science, jupyter notebook, customisation\n",
    "---\n",
    "\n",
    "Did you know your Jupyter notebooks don't have to have that default \"science grey\" appearance? Using a package called `jupyterthemes` (documentation [here](https://github.com/dunovank/jupyter-themes) on Github), you can add a fairly high degree of customisation and be rocking the sexiest notebook around!\n",
    "\n",
    "## Getting started\n",
    "\n",
    "First, as always, we install the required package, and then launch a fresh notebook."
   ]
  },
  {
   "cell_type": "code",
   "execution_count": null,
   "metadata": {
    "collapsed": true
   },
   "outputs": [],
   "source": [
    "!pip install jupytertheme\n",
    "!jupyter notebook"
   ]
  },
  {
   "cell_type": "markdown",
   "metadata": {
    "collapsed": true
   },
   "source": [
    "## Changing the theme\n",
    "\n",
    "We've obviously started with a regular, run-of-the-mill notebook. The first thing we can change is the overall theme. We can list our options using `jt -l`, and also get a preview of a few of them over in the documentation."
   ]
  },
  {
   "cell_type": "code",
   "execution_count": 1,
   "metadata": {},
   "outputs": [
    {
     "name": "stdout",
     "output_type": "stream",
     "text": [
      "Available Themes: \r\n",
      "   chesterish\r\n",
      "   grade3\r\n",
      "   monokai\r\n",
      "   oceans16\r\n",
      "   onedork\r\n",
      "   solarized-light\r\n",
      "   solarizedl\r\n",
      "   solarized-light\r\n"
     ]
    }
   ],
   "source": [
    "!jt -l"
   ]
  },
  {
   "cell_type": "markdown",
   "metadata": {},
   "source": [
    "I'm going to use grade3, which we can select using the -t argument."
   ]
  },
  {
   "cell_type": "code",
   "execution_count": 2,
   "metadata": {
    "collapsed": true
   },
   "outputs": [],
   "source": [
    "!jt -t grade3"
   ]
  },
  {
   "cell_type": "markdown",
   "metadata": {},
   "source": [
    "It looks great, but you can see we've lost our toolbar and notebook name, which I like having. Let's turn them back on."
   ]
  },
  {
   "cell_type": "code",
   "execution_count": 3,
   "metadata": {
    "collapsed": true
   },
   "outputs": [],
   "source": [
    "!jt -t grade3 -N -T"
   ]
  },
  {
   "cell_type": "markdown",
   "metadata": {},
   "source": [
    "Now let's change the default code font. There is a comprehensive list of possible monospace fonts in the documentation that are recognised by "
   ]
  }
 ],
 "metadata": {
  "kernelspec": {
   "display_name": "Python 2",
   "language": "python",
   "name": "python2"
  },
  "language_info": {
   "codemirror_mode": {
    "name": "ipython",
    "version": 2
   },
   "file_extension": ".py",
   "mimetype": "text/x-python",
   "name": "python",
   "nbconvert_exporter": "python",
   "pygments_lexer": "ipython2",
   "version": "2.7.12"
  }
 },
 "nbformat": 4,
 "nbformat_minor": 2
}
