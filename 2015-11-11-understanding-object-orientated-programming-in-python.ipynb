{
 "cells": [
  {
   "cell_type": "markdown",
   "metadata": {},
   "source": [
    "---\n",
    "title: Object-oriented programming in Python for a non-object-oriented programmer \n",
    "date: 2015-11-11  \n",
    "comments: false  \n",
    "tags: Python, Programming tips  \n",
    "keywords: python, programming, oop  \n",
    "\n",
    "---\n",
    "\n",
    "When I first seriously decided to learn programming about three years ago, I picked up Python using Zed Shaw's [**Learn Python the Hard Way**](http://learnpythonthehardway.org/). While an excellent introduction to programming for someone who had previously only cobbled together [SPSS](https://en.wikipedia.org/wiki/SPSS) syntax, his explanation of [object-orientated programming (OOP)](https://en.wikipedia.org/wiki/Object-oriented_programming) went completely over my head. I confess, I had spent the entire time since convinced I was incapable of understanding OOP! \n",
    "\n",
    "When refreshing Python recently, I used the book [**Practical Programming: An Introduction to Computer Science Using Python**](http://www.amazon.com/Practical-Programming-Introduction-Pragmatic-Programmers/dp/1934356271). This book had such a nice explanation of OOP that it (well, the basics at least!) finally clicked for me. I'll therefore use this week's blog post to assist someone else to conquer OOP using Python. \n",
    "\n",
    "I used Python 2.7.10 for this post."
   ]
  },
  {
   "cell_type": "markdown",
   "metadata": {},
   "source": [
    "## Python uses types\n",
    "\n",
    "You will remember that Python uses a number of [**types**](https://docs.python.org/2/library/stdtypes.html). A type takes the form of a value or collection of values, and each have specific **methods** you can call on them. \n",
    "\n",
    "For example, a major type is a **list**. Let's say we own a cattery and we want to keep track of the cats we have at the moment. We can store their names in a list:"
   ]
  },
  {
   "cell_type": "code",
   "execution_count": 2,
   "metadata": {
    "collapsed": false
   },
   "outputs": [
    {
     "name": "stdout",
     "output_type": "stream",
     "text": [
      "['Whiskers', 'Felix', 'Charley', 'Rosebud', 'Biddy']\n"
     ]
    }
   ],
   "source": [
    "cats = ['Whiskers', 'Felix', 'Charley', 'Rosebud', 'Biddy']\n",
    "print cats"
   ]
  },
  {
   "cell_type": "markdown",
   "metadata": {},
   "source": [
    "<img src=\"/figure/catsinboxes.png\" title=\"cats in boxes\" alt=\"plot of chunk interpretation\" style=\"display: block; margin: auto;\" />\n",
    "\n",
    "However, today Whiskers is going home and we are also getting a new cat (Mr. Paws). We can update our list by calling the methods 'append' and 'remove':"
   ]
  },
  {
   "cell_type": "code",
   "execution_count": 3,
   "metadata": {
    "collapsed": false
   },
   "outputs": [
    {
     "name": "stdout",
     "output_type": "stream",
     "text": [
      "['Felix', 'Charley', 'Rosebud', 'Biddy', 'Mr. Paws']\n"
     ]
    }
   ],
   "source": [
    "cats.remove('Whiskers')\n",
    "cats.append('Mr. Paws')\n",
    "print cats"
   ]
  },
  {
   "cell_type": "markdown",
   "metadata": {},
   "source": [
    "## Creating a class is creating a new type\n",
    "\n",
    "You can see that the list type has a **general** form (immutable sequence of any length, containing any type of value, separated by commas and surrounded by square brackets). You can also see that we created a **specific** list **object** which contained a sequence of strings to represent our cat names.\n",
    "\n",
    "We can extend the functionality of Python by creating our own types. The general forms of each of these types are called **classes**, and  we can create a specific object which is an **instance** of this class. We can also define the methods we want our class to have."
   ]
  },
  {
   "cell_type": "markdown",
   "metadata": {},
   "source": [
    "## Class Cat\n",
    "\n",
    "Let's say that we want to make a general form to describe the cats we are looking after. We will do this by defining a new type we'll call Cat. This Cat will have a name, a temperament, and a weight (in kgs). In this first step, you can see that we are are using the keyword `class` to indicate to Python that we want to create a type, and the `object` argument indicates that this is an object. For now, this class is empty as shown by the `pass` argument."
   ]
  },
  {
   "cell_type": "code",
   "execution_count": 4,
   "metadata": {
    "collapsed": true
   },
   "outputs": [],
   "source": [
    "class Cat(object):\n",
    "    '''A Cat with name, temperament and weight components.'''\n",
    "    \n",
    "    pass"
   ]
  },
  {
   "cell_type": "markdown",
   "metadata": {
    "collapsed": true
   },
   "source": [
    "If we want to create a new Cat, we simply assign it to a new variable like below:"
   ]
  },
  {
   "cell_type": "code",
   "execution_count": 5,
   "metadata": {
    "collapsed": true
   },
   "outputs": [],
   "source": [
    "felix = Cat()"
   ]
  },
  {
   "cell_type": "markdown",
   "metadata": {},
   "source": [
    "This is the equivalent of creating an empty list for a list type.\n",
    "\n",
    "The first thing we want our Cat type to do is print the name of the cat. A (bad) way to do this is to attach a name value to the Cat object like below. This Cat now has an **instance variable** called `name`."
   ]
  },
  {
   "cell_type": "code",
   "execution_count": 6,
   "metadata": {
    "collapsed": false
   },
   "outputs": [
    {
     "name": "stdout",
     "output_type": "stream",
     "text": [
      "Felix\n"
     ]
    }
   ],
   "source": [
    "felix.name = \"Felix\"\n",
    "print felix.name"
   ]
  },
  {
   "cell_type": "markdown",
   "metadata": {},
   "source": [
    "We could then use this `name` variable in a function:"
   ]
  },
  {
   "cell_type": "code",
   "execution_count": 7,
   "metadata": {
    "collapsed": false
   },
   "outputs": [
    {
     "name": "stdout",
     "output_type": "stream",
     "text": [
      "The cat is called Felix.\n"
     ]
    }
   ],
   "source": [
    "def name_print(cat):\n",
    "    '''Print the name of the cat.'''\n",
    "    print \"The cat is called %s.\" % cat.name\n",
    "\n",
    "name_print(felix)"
   ]
  },
  {
   "cell_type": "markdown",
   "metadata": {
    "collapsed": false
   },
   "source": [
    "We can make this function a method of the Cat type by moving it into the class. Note that an important change to the code is that the `cat` parameter has been replaced with `self`. This indicates that the class refers to the specific instance to supply it with the parameter for the function, which in this case is `felix`."
   ]
  },
  {
   "cell_type": "code",
   "execution_count": 8,
   "metadata": {
    "collapsed": false
   },
   "outputs": [
    {
     "name": "stdout",
     "output_type": "stream",
     "text": [
      "The cat is called Felix.\n"
     ]
    }
   ],
   "source": [
    "class Cat(object):\n",
    "    '''A Cat with name, temperament and weight components.'''\n",
    "    \n",
    "    def name_print(self):\n",
    "        '''Print the name of the cat.'''\n",
    "        print \"The cat is called %s.\" % self.name\n",
    "    \n",
    "felix = Cat()\n",
    "felix.name = \"Felix\"\n",
    "felix.name_print()"
   ]
  },
  {
   "cell_type": "markdown",
   "metadata": {
    "collapsed": false
   },
   "source": [
    "Obviously defining the instance variables outside the class is undesirable - it is inefficient and prone to mistakes. Instead, it would be better if we could just include the variables at the same time as creating a new Cat. The way we do this is to add a **constructor** method, which in Python is called using `__init__`. This is one of Python's **special methods** that can be used within classes. You can see how we've included this below:"
   ]
  },
  {
   "cell_type": "code",
   "execution_count": 9,
   "metadata": {
    "collapsed": false
   },
   "outputs": [
    {
     "name": "stdout",
     "output_type": "stream",
     "text": [
      "The cat is called Felix.\n"
     ]
    }
   ],
   "source": [
    "class Cat(object):\n",
    "    '''A Cat with name, temperament and weight components.'''\n",
    "    \n",
    "    def __init__(self, name):\n",
    "        '''A new cat with name value name.'''\n",
    "        self.name = name\n",
    "    \n",
    "    def name_print(self):\n",
    "        '''Print the name of the cat.'''\n",
    "        print \"The cat is called %s.\" % self.name\n",
    "    \n",
    "felix = Cat(\"Felix\")\n",
    "felix.name_print()"
   ]
  },
  {
   "cell_type": "markdown",
   "metadata": {
    "collapsed": false
   },
   "source": [
    "You can see that, just like a function, the `__init__` method allows you to pass the `name` parameter to a new Cat when it is being created. You can also see that the class is again passing a reference to the instance being created using the `self` parameter. As such, the `__init__` method also requires that you attach each instance variable to the instance. You can see we did this by defining the `name` parameter as `self.name` within the class.\n",
    "\n",
    "You may also have noticed that I changed my `name_print` method into a method called `__str__`. This is another special method. The `__str__` method returns a string representation of the object when it is printed. As the only instance variable we have input so far is the cat's name, that is all that string returns. `__init__` and `__str__` are just two of the many special methods Python has."
   ]
  },
  {
   "cell_type": "code",
   "execution_count": 15,
   "metadata": {
    "collapsed": false
   },
   "outputs": [
    {
     "name": "stdout",
     "output_type": "stream",
     "text": [
      "The cat is called Felix.\n"
     ]
    }
   ],
   "source": [
    "class Cat(object):\n",
    "    '''A Cat with name, temperament and weight components.'''\n",
    "    \n",
    "    def __init__(self, name):\n",
    "        '''A new Cat with a name (string).'''\n",
    "        self.name = name\n",
    "    \n",
    "    def __str__(self):\n",
    "        '''Print the name of the cat.'''\n",
    "        return \"The cat is called %s.\" % self.name\n",
    "    \n",
    "felix = Cat(\"Felix\")\n",
    "print felix"
   ]
  },
  {
   "cell_type": "markdown",
   "metadata": {},
   "source": [
    "The final step is adding in the temperament and weight instance variables and methods to use them. We do this by simply adding them to the list of parameters within the `__init__` method, and then writing functions that define what the new methods do. In this case, a method I have included to use temperament is `is_friendly`, which returns True when the cat is friendly and False otherwise. Additionally I have included an `if_weighs_more` method for weight, which takes a second \"threshold\" weight as an argument and returns True if the cat weighs more and False otherwise. Finally, you may have noticed that I changed the `__str__` method. As it is supposed to be a full representation of the object, I have expanded it to include all of the instance variables."
   ]
  },
  {
   "cell_type": "code",
   "execution_count": 14,
   "metadata": {
    "collapsed": true
   },
   "outputs": [],
   "source": [
    "class Cat(object):\n",
    "    '''A Cat with name, temperament and weight components.'''\n",
    "    \n",
    "    def __init__(self, name, temperament, weight):\n",
    "        '''A new Cat with a name (string), temperament (string) \n",
    "        and weight (float).'''\n",
    "        self.name = name\n",
    "        self.temperament = temperament\n",
    "        self.weight = weight\n",
    "    \n",
    "    def __str__(self):\n",
    "        '''Print the Cat object.'''\n",
    "        return \"The cat is called %s. Its temperament is %s. It weighs %s kgs.\" \\\n",
    "        % (self.name, self.temperament, self.weight)\n",
    "    \n",
    "    def is_friendly(self):\n",
    "        '''Prints the temperament of the cat.'''\n",
    "        return self.temperament == \"friendly\"\n",
    "    \n",
    "    def if_weighs_more(self, cutoff_weight):\n",
    "        '''Returns if cat weighs more than a specified value.'''\n",
    "        return self.weight > cutoff_weight"
   ]
  },
  {
   "cell_type": "code",
   "execution_count": 11,
   "metadata": {
    "collapsed": false
   },
   "outputs": [
    {
     "name": "stdout",
     "output_type": "stream",
     "text": [
      "The cat is called Felix. Its temperament is friendly. It weighs 6 kgs.\n"
     ]
    }
   ],
   "source": [
    "felix = Cat(\"Felix\", \"friendly\", 6)\n",
    "print felix"
   ]
  },
  {
   "cell_type": "code",
   "execution_count": 12,
   "metadata": {
    "collapsed": false
   },
   "outputs": [
    {
     "data": {
      "text/plain": [
       "True"
      ]
     },
     "execution_count": 12,
     "metadata": {},
     "output_type": "execute_result"
    }
   ],
   "source": [
    "felix.is_friendly()"
   ]
  },
  {
   "cell_type": "code",
   "execution_count": 13,
   "metadata": {
    "collapsed": false
   },
   "outputs": [
    {
     "data": {
      "text/plain": [
       "True"
      ]
     },
     "execution_count": 13,
     "metadata": {},
     "output_type": "execute_result"
    }
   ],
   "source": [
    "felix.if_weighs_more(5)"
   ]
  },
  {
   "cell_type": "markdown",
   "metadata": {},
   "source": [
    "## Inheritance\n",
    "\n",
    "Ok, so imagine that we have cats with special needs in our cattery. One such type of cat is older cats. Let's pretend that older cats have some property that younger cats don't have, which is that they get illnesses that require specific care plans. We could write an entire new Older_Cat class from scratch. However, this will create redundancy as we will be repeating all of the instance variables and methods as in the Cat class.\n",
    "\n",
    "We can get around this using something called **inheritance**. Inheritance is where a class (called the **child**) can inherit the properties of another class (called the **parent**). In our case, the Cat class is the parent, and the Older_Cat class is, ironically, the child. Below is how we would begin an inherited class. You can see that instead of passing the argument object, we pass the object Cat to this class."
   ]
  },
  {
   "cell_type": "code",
   "execution_count": 20,
   "metadata": {
    "collapsed": false
   },
   "outputs": [],
   "source": [
    "class Older_Cat(Cat):\n",
    "    '''A Cat aged over 8 years with name, temperament and weight components.'''\n",
    "    \n",
    "    pass"
   ]
  },
  {
   "cell_type": "markdown",
   "metadata": {
    "collapsed": false
   },
   "source": [
    "We add in the `__init__` method to this child class. You can see it works a little differently than in the parent. Instead of adding each of the Cat instance variables one-by-one to the Older_Cat class, we instead call the `__init__` method from Cat within the class."
   ]
  },
  {
   "cell_type": "code",
   "execution_count": 22,
   "metadata": {
    "collapsed": false
   },
   "outputs": [
    {
     "name": "stdout",
     "output_type": "stream",
     "text": [
      "The cat is called Rosebud. Its temperament is cranky. It weighs 4 kgs.\n"
     ]
    }
   ],
   "source": [
    "class Older_Cat(Cat):\n",
    "    '''A Cat aged over 8 years with name, temperament and weight components.'''\n",
    "    \n",
    "    def __init__(self, name, temperament, weight):\n",
    "        '''A new Older_Cat with a name (string), temperament (string) and weight (float).'''\n",
    "        \n",
    "        Cat.__init__(self, name, temperament, weight)\n",
    "\n",
    "rosebud = Older_Cat(\"Rosebud\", \"cranky\", 4)\n",
    "print rosebud"
   ]
  },
  {
   "cell_type": "code",
   "execution_count": 24,
   "metadata": {
    "collapsed": false
   },
   "outputs": [
    {
     "data": {
      "text/plain": [
       "False"
      ]
     },
     "execution_count": 24,
     "metadata": {},
     "output_type": "execute_result"
    }
   ],
   "source": [
    "rosebud.is_friendly()"
   ]
  },
  {
   "cell_type": "code",
   "execution_count": 25,
   "metadata": {
    "collapsed": false
   },
   "outputs": [
    {
     "data": {
      "text/plain": [
       "False"
      ]
     },
     "execution_count": 25,
     "metadata": {},
     "output_type": "execute_result"
    }
   ],
   "source": [
    "rosebud.if_weighs_more(5)"
   ]
  },
  {
   "cell_type": "markdown",
   "metadata": {
    "collapsed": false
   },
   "source": [
    "Ok, so the reason we have created this child class is to add in additional instance variables and methods. Below you can see that I have added the additional instance variable illness into the `__init__` method in the exact same way we added them to the parent class orginally. You can also see I have created a new method specific to Older_Cat that uses illness, called `has_illness`. This method returns a description of whether the Older_Cat has an illness, and if so, what it is and to consult the care plan."
   ]
  },
  {
   "cell_type": "code",
   "execution_count": 28,
   "metadata": {
    "collapsed": false
   },
   "outputs": [
    {
     "name": "stdout",
     "output_type": "stream",
     "text": [
      "The cat is called Rosebud. Its temperament is cranky. It weighs 4 kgs.\n"
     ]
    }
   ],
   "source": [
    "class Older_Cat(Cat):\n",
    "    '''A Cat aged over 8 years with name, temperament and weight components.'''\n",
    "    \n",
    "    def __init__(self, name, temperament, weight, illness):\n",
    "        '''A new Older_Cat with a name (string), temperament (string) and weight (float).'''\n",
    "        \n",
    "        Cat.__init__(self, name, temperament, weight)\n",
    "        self.illness = illness\n",
    "        \n",
    "    def has_illness(self):\n",
    "        '''Describes if the Older_Cat has any health conditions.'''\n",
    "        if self.illness != \"none\":\n",
    "            print \"%s has %s. Please consult care plan.\" \\\n",
    "            % (self.name, self.illness)\n",
    "        else:\n",
    "            print \"%s has no health conditions.\" % self.name\n",
    "\n",
    "rosebud = Older_Cat(\"Rosebud\", \"cranky\", 4, \"arthritis\")\n",
    "print rosebud"
   ]
  },
  {
   "cell_type": "code",
   "execution_count": 29,
   "metadata": {
    "collapsed": false
   },
   "outputs": [
    {
     "name": "stdout",
     "output_type": "stream",
     "text": [
      "Rosebud has arthritis. Please consult care plan.\n"
     ]
    }
   ],
   "source": [
    "rosebud.has_illness()"
   ]
  },
  {
   "cell_type": "markdown",
   "metadata": {},
   "source": [
    "I hope this has been a helpful overview of OOP and has helped you understand this really useful concept in programming. As I said at the beginning of this article, I relied heavily on the wonderful [**Practical Programming: An Introduction to Computer Science Using Python**](http://www.amazon.com/Practical-Programming-Introduction-Pragmatic-Programmers/dp/1934356271), which gives a much more comprehensive coverage of this topic.\n",
    "\n",
    "Finally, the full code used to create the figures in this post is located in this [gist on my Github page](https://gist.github.com/t-redactyl/d9c906e11391d0885978)."
   ]
  },
  {
   "cell_type": "code",
   "execution_count": null,
   "metadata": {
    "collapsed": true
   },
   "outputs": [],
   "source": []
  }
 ],
 "metadata": {
  "kernelspec": {
   "display_name": "Python 2",
   "language": "python",
   "name": "python2"
  },
  "language_info": {
   "codemirror_mode": {
    "name": "ipython",
    "version": 2
   },
   "file_extension": ".py",
   "mimetype": "text/x-python",
   "name": "python",
   "nbconvert_exporter": "python",
   "pygments_lexer": "ipython2",
   "version": "2.7.12"
  }
 },
 "nbformat": 4,
 "nbformat_minor": 0
}
