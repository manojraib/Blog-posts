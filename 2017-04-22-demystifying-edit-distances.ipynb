{
 "cells": [
  {
   "cell_type": "code",
   "execution_count": 1,
   "metadata": {
    "collapsed": true
   },
   "outputs": [],
   "source": [
    "import urllib2\n",
    "import json\n",
    "\n",
    "import jellyfish\n",
    "import "
   ]
  },
  {
   "cell_type": "code",
   "execution_count": 3,
   "metadata": {},
   "outputs": [],
   "source": [
    "url = 'http://svcs.ebay.com/services/search/FindingService/v1?OPERATION-NAME=findCompletedItems&SERVICE-VERSION=1.12.0&SECURITY-APPNAME=JodieBur-MarioBro-PRD-538ccaf50-bb20cf56&GLOBAL-ID=EBAY-AU&RESPONSE-DATA-FORMAT=JSON&REST-PAYLOAD&keywords=the%20legend%20of%20zelda%20nes'\n",
    "req = urllib2.Request(url)\n",
    "text_data = urllib2.urlopen(req).read()\n",
    "data = json.loads(text_data)"
   ]
  },
  {
   "cell_type": "code",
   "execution_count": 18,
   "metadata": {},
   "outputs": [
    {
     "data": {
      "text/plain": [
       "[u'The Legend Of Zelda, Nes Game']"
      ]
     },
     "execution_count": 18,
     "metadata": {},
     "output_type": "execute_result"
    }
   ],
   "source": [
    "data.values()[0][0]['searchResult'][0]['item'][0]['title']"
   ]
  },
  {
   "cell_type": "code",
   "execution_count": 19,
   "metadata": {
    "collapsed": true
   },
   "outputs": [],
   "source": [
    "title = []\n",
    "\n",
    "for i in range(0, len(data.values()[0][0]['searchResult'][0]['item'])):\n",
    "    title.append(data.values()[0][0]['searchResult'][0]['item'][i]['title'][0])"
   ]
  },
  {
   "cell_type": "code",
   "execution_count": 20,
   "metadata": {},
   "outputs": [
    {
     "data": {
      "text/plain": [
       "[u'The Legend Of Zelda, Nes Game',\n",
       " u'NES The Legend Of Zelda Nintendo Game Cartridge PAL A',\n",
       " u'NES THE LEGEND OF ZELDA & LEGEND OF ZELDA 2 THE ADVENTURE OF LINK',\n",
       " u'The Legend of Zelda: A Link to the Past (Super Nintendo Entertainment System,...',\n",
       " u'The Legend of Zelda II 2: The Adventure of Link - Nintendo -NES AUS PAL! BAGGIE!',\n",
       " u'The Legend of Zelda PAL Rare Awesome NES RPG Game',\n",
       " u'The Legend of Zelda - NES CLASSICS - Nintendo Game Boy Advance - AUS PAL',\n",
       " u'The Legend Of Zelda, Nes Game',\n",
       " u'Nintendo The Legend Of Zelda NES Collection Zip Hoodie Unisex XSmall Game Merch',\n",
       " u'The Legend of Zelda Nes.',\n",
       " u'The Legend Of Zelda NES (PAL)',\n",
       " u\"Nintendo The Legend Of Zelda NES Collection Pullover Jumper Men's Medium Game \",\n",
       " u'The Legend of Zelda Nintendo NES (Cart Only) UK PAL A',\n",
       " u'NES The Legend Of Zelda Nintendo Game Cartridge',\n",
       " u'The Legend of Zelda Nintendo NES PAL Preloved',\n",
       " u'The Legend of Zelda | Nintendo NES PAL | Very Good Condition',\n",
       " u'The Legend of Zelda NES',\n",
       " u'The Legend of Zelda PAL Rare Awesome NES RPG Game',\n",
       " u'NES CLASSICS 5: THE LEGEND OF ZELDA (GBA Game) Game Boy Advance A',\n",
       " u'The Legend of Zelda  - Nes Classic - Game Boy Advance - PAL - Very Good - CIB',\n",
       " u'The legend of zelda nes',\n",
       " u'The Legend of Zelda NES',\n",
       " u'NES The Legend Of Zelda Nintendo Game Cartridge',\n",
       " u'The Legend of Zelda II 2: The Adventure of Link - Nintendo -NES AUS PAL! BAGGIE!',\n",
       " u'The Legend of Zelda - NES CLASSICS - Nintendo Game Boy Advance - AUS PAL',\n",
       " u'THE LEGEND OF ZELDA (NES Game) Rare B',\n",
       " u'The Legend of Zelda: A Link to the Past (Super Nintendo Entertainment System,...',\n",
       " u'The Legend of Zelda PAL Rare Awesome NES RPG Game',\n",
       " u'Nintendo Japan The Legend Of Zelda Story T-Shirt Mens Size Small Editmode NES',\n",
       " u'The Legend of Zelda: A Link to the Past (Super Nintendo Entertainment System, 1\\u2026',\n",
       " u'The Legend of Zelda Nintendo NES Game Boxed PAL A, Cleaned, New Save Battery',\n",
       " u'The legend of zelda nes',\n",
       " u'NES Cartridge The Legend Of Zelda With Case',\n",
       " u'NES NINTENDO GAME  ~~ ZELDA - THE LEGEND OF ZELDA  ~~  BOXED - GOLD CART !!',\n",
       " u'The Legend Of Zelda 2 - The Adventures Of Link - Nintendo NES - PAL Version',\n",
       " u'The Legend Of Zelda - Nintendo NES - Australian PAL Version',\n",
       " u'The Legend of Zelda: A Link to the Past (Super Nintendo Entertainment System, 1\\u2026',\n",
       " u'The Legend of Zelda - NES CLASSICS - Nintendo Game Boy Advance!',\n",
       " u'Nintendo NES The Legend Of Zelda/Zelda II The Adventure Of Link Games',\n",
       " u'The Legend of Zelda - NES - Good Condition - CIB inc Game Manual -PAL Gold Cart',\n",
       " u'The Legend Of Zelda - NES Classics (Gameboy Advance)',\n",
       " u'The Legend of Zelda NES',\n",
       " u'Nintendo NES Game PAL - The Legend of Zelda!!!',\n",
       " u'NES Classics: The Legend of Zelda (Gameboy Advance)',\n",
       " u'The Legend of Zelda - NES - Good Condition - CIB inc MAP',\n",
       " u'NINTENDO GAMEBOY ADVANCE THE LEGEND OF ZELDA NES CLASSICS GBA GAME',\n",
       " u'THE LEGEND OF ZELDA    NES Nintendo Entertainment System Cartridge ',\n",
       " u'The Legend of Zelda: A Link to the Past (Super Nintendo Entertainment System, 1\\u2026',\n",
       " u'The Legend Of Zelda - Nintendo Entertainment System NES - Pal Version Aus Seller',\n",
       " u'Nes classics the legend of Zelda gameboy advance Aus Pal',\n",
       " u'The Legend of Zelda NES (NTSC American) (TESTED AND WORKING)',\n",
       " u'the legend of Zelda Nintendo nes',\n",
       " u'The Legend of Zelda NES - Gold Cart - USA NTSC',\n",
       " u'The Legend of Zelda *COMPLETE* - NES Nintendo AUSSIE! AUSSIE! AUSSIE!',\n",
       " u'Legend of Zelda: A Link to the Past (Super Nintendo Entertainment System, SNES)',\n",
       " u'THE LEGEND OF ZELDA (NES Game) Rare B',\n",
       " u'NES NINTENDO GAME  ~ ZELDA - THE LEGEND OF ZELDA  ~  BOXED - GOLD CART',\n",
       " u'Zelda 2 The Legend of Link Nintendo nes PAL RARE Game Cartridge FREE POST\\u2606\\u2606\\u2606',\n",
       " u'The Legend of Zelda - NES Classics (GBA)',\n",
       " u'The Legend of Zelda: A Link to the Past US Super NES SNES game cart only (US)',\n",
       " u'The Legend Of Zelda - Nintendo NES game cart only']"
      ]
     },
     "execution_count": 20,
     "metadata": {},
     "output_type": "execute_result"
    }
   ],
   "source": [
    "title"
   ]
  },
  {
   "cell_type": "code",
   "execution_count": null,
   "metadata": {
    "collapsed": true
   },
   "outputs": [],
   "source": []
  }
 ],
 "metadata": {
  "kernelspec": {
   "display_name": "Python 2",
   "language": "python",
   "name": "python2"
  },
  "language_info": {
   "codemirror_mode": {
    "name": "ipython",
    "version": 2
   },
   "file_extension": ".py",
   "mimetype": "text/x-python",
   "name": "python",
   "nbconvert_exporter": "python",
   "pygments_lexer": "ipython2",
   "version": "2.7.12"
  }
 },
 "nbformat": 4,
 "nbformat_minor": 2
}
